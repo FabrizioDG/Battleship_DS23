{
 "cells": [
  {
   "cell_type": "code",
   "execution_count": 121,
   "metadata": {},
   "outputs": [],
   "source": [
    "#El plan es que en las coordenadas con agua ponemos '0', en las coordenadas con barcos ponemos '1'\n",
    "# y en las coordenadas donde se ha disparado ponemos 2, al pesar que originalmente había un '0' o '1'\n",
    "\n",
    "#self.barcos es un diccionario con llaves la dimension del barco y valor cuanto barcos te quedan\n",
    "\n",
    "#set_boats: select which boat from the dictionary barcos, select a random orientation (horizontal or vertical), then \n",
    "# set the boat at random in the allowed area, considering that position is the head of the boat\n",
    "#  (the rest of the boat follows either right if orientation==horizontal or down if orientation==vertical)\n",
    "\n",
    "#the allowed area have zeros, I set with '2' the area close to the boats already set before, so that they don't touch.\n",
    "#When all the boats are set, I will reset all the '2' with '0'\n",
    "\n",
    "#barcos = {1 : 4, 2 : 3 , 3 : 2 , 4 : 1}\n",
    "\n",
    "\n",
    "#set_mask\n",
    "# I pad the matrix with an extra border, not to be worried if the boat is at the border or not. I set the mask and then I \n",
    "# delete the extra padding I put.\n",
    "\n",
    "#CONSTANTS:\n",
    "#BOARD_SIZE = (10,10)\n",
    "\n",
    "import numpy as np\n",
    "\n",
    "class Board:\n",
    "\n",
    "    \n",
    "    def __init__(self, player, board_size, boats):\n",
    "        self.player = player\n",
    "        self.board = np.zeros(board_size)\n",
    "        self.xdim = board_size[0]\n",
    "        self.ydim = board_size[1]\n",
    "        self.boats = boats\n",
    "\n",
    "        for boat, num in boats.items():\n",
    "            for j in range(num):\n",
    "                self.set_boat(boat)\n",
    "                \n",
    "        self.polish_board()\n",
    "\n",
    "\n",
    "    def set_boat(self, dim_boat):\n",
    "        flag = True\n",
    "        if dim_boat not in self.boats:\n",
    "            print(f\"ERROR: There is no boat with dimension {dim_boat}\")\n",
    "            return None\n",
    "        if self.boats[dim_boat]>0:\n",
    "            self.boats[dim_boat]-=1 #substract the boat you already put\n",
    "        else:\n",
    "            print(f\"Warning: you already put all the boats of dimension {dim_boat}\")\n",
    "            return None\n",
    "        \n",
    "        orientation = np.random.randint(0,2)\n",
    "        while flag:\n",
    "            if orientation ==0: # horizontal\n",
    "                coord1 = np.array([np.random.randint(0,self.xdim),np.random.randint(0,self.ydim-dim_boat+1)])\n",
    "                coord2 = np.array([coord1[0], coord1[1] + dim_boat])\n",
    "\n",
    "                #if all the points where I want to put the boat are free (zeros)\n",
    "                if (self.board[coord1[0]:coord2[0]+1,coord1[1]:coord2[1]] == 0).all():\n",
    "                    self.board[coord1[0]:coord2[0]+1,coord1[1]:coord2[1]] = 1\n",
    "                    self.set_mask(coord1, coord2, orientation)\n",
    "                    flag = False\n",
    "            elif orientation ==1:#vertical\n",
    "                coord1 = np.array([np.random.randint(0,self.xdim-dim_boat+1),np.random.randint(0,self.ydim)])\n",
    "                coord2 = np.array([coord1[0] + dim_boat, coord1[1]])\n",
    "\n",
    "                \n",
    "                if (self.board[coord1[0]:coord2[0],coord1[1]:coord2[1]+1]==0).all():\n",
    "                    self.board[coord1[0]:coord2[0],coord1[1]:coord2[1]+1] = 1\n",
    "                    self.set_mask(coord1, coord2, orientation)\n",
    "                    flag = False\n",
    "\n",
    "\n",
    "    def set_mask(self, coord1, coord2, orientation):\n",
    "        #pad the matrix:\n",
    "        new_board = np.zeros((self.xdim+2, self.ydim+2))\n",
    "        new_board[1:-1,1:-1] = self.board\n",
    "        #add one to coordinates\n",
    "        coord1 +=1\n",
    "        coord2 +=1\n",
    "\n",
    "        if orientation==0: #horizontal\n",
    "            new_board[coord1[0],coord1[1]-1] = 2\n",
    "            new_board[coord2[0],coord2[1]] = 2\n",
    "            new_board[coord1[0]-1, coord1[1]:coord2[1]] = 2\n",
    "            new_board[coord1[0]+1, coord1[1]:coord2[1]] = 2\n",
    "        else:\n",
    "            new_board[coord1[0]-1,coord1[1]] = 2\n",
    "            new_board[coord2[0],coord1[1]] = 2\n",
    "            new_board[coord1[0]:coord2[0], coord1[1]-1] = 2\n",
    "            new_board[coord1[0]:coord2[0], coord1[1]+1] = 2\n",
    "\n",
    "        #delete padding\n",
    "        self.board = new_board[1:-1,1:-1]\n",
    "              \n",
    "    def polish_board(self):\n",
    "        self.board[np.where(self.board==2)]=0\n",
    "        print(f\"The board for player {self.player} is ready\")\n",
    "\n"
   ]
  },
  {
   "cell_type": "code",
   "execution_count": 126,
   "metadata": {},
   "outputs": [
    {
     "name": "stdout",
     "output_type": "stream",
     "text": [
      "The board for player Fabrizio is ready\n",
      "{1: 4, 2: 3, 3: 2, 4: 1}\n",
      "[[0. 0. 0. 0. 0. 0. 0. 0. 0. 0.]\n",
      " [0. 0. 0. 0. 1. 0. 0. 0. 1. 0.]\n",
      " [0. 0. 0. 0. 0. 0. 0. 0. 1. 0.]\n",
      " [1. 0. 0. 0. 1. 0. 0. 0. 1. 0.]\n",
      " [1. 0. 0. 0. 1. 0. 0. 0. 0. 0.]\n",
      " [0. 0. 0. 0. 1. 0. 1. 1. 0. 0.]\n",
      " [0. 0. 0. 0. 0. 1. 0. 0. 0. 1.]\n",
      " [0. 0. 0. 1. 0. 1. 0. 0. 0. 0.]\n",
      " [0. 0. 0. 0. 0. 1. 0. 1. 0. 1.]\n",
      " [0. 0. 0. 0. 0. 1. 0. 0. 0. 1.]]\n",
      "\n",
      "\n",
      "\n",
      "The board for player Computer is ready\n",
      "[[0. 1. 0. 1. 0. 1. 1. 0. 0. 1.]\n",
      " [0. 1. 0. 1. 0. 0. 0. 0. 0. 1.]\n",
      " [0. 1. 0. 0. 0. 0. 0. 0. 0. 1.]\n",
      " [0. 0. 0. 0. 0. 0. 1. 0. 0. 1.]\n",
      " [0. 0. 0. 0. 0. 0. 0. 0. 0. 0.]\n",
      " [0. 0. 0. 1. 0. 0. 0. 0. 0. 0.]\n",
      " [0. 0. 0. 0. 0. 1. 1. 0. 1. 0.]\n",
      " [0. 1. 0. 0. 0. 0. 0. 0. 1. 0.]\n",
      " [1. 0. 0. 0. 0. 0. 0. 0. 1. 0.]\n",
      " [0. 0. 0. 0. 0. 0. 0. 0. 0. 0.]]\n"
     ]
    }
   ],
   "source": [
    "boats = {1 : 4, 2 : 3 , 3 : 2 , 4 : 1}\n",
    "\n",
    "my_board = Board(\"Fabrizio\",(10,10),boats.copy())\n",
    "\n",
    "print(boats)\n",
    "print(my_board.board)\n",
    "print(\"\\n\\n\")\n",
    "\n",
    "cpu_board = Board(\"Computer\",(10,10),boats.copy())\n",
    "\n",
    "print(cpu_board.board)\n"
   ]
  },
  {
   "cell_type": "code",
   "execution_count": null,
   "metadata": {},
   "outputs": [],
   "source": [
    "boats = {1 : 4, 2 : 3 , 3 : 2 , 4 : 1}\n",
    "\n",
    "\n"
   ]
  },
  {
   "cell_type": "code",
   "execution_count": 75,
   "metadata": {},
   "outputs": [
    {
     "name": "stdout",
     "output_type": "stream",
     "text": [
      "[8 1]\n",
      "[9 2]\n"
     ]
    }
   ],
   "source": [
    "coord1 = np.array([np.random.randint(0,10),np.random.randint(0,10)])\n",
    "print(coord1)\n",
    "coord1 +=1\n",
    "print(coord1)"
   ]
  },
  {
   "cell_type": "code",
   "execution_count": 90,
   "metadata": {},
   "outputs": [],
   "source": [
    "matrix = np.random.randint(0,10,(2,5))"
   ]
  },
  {
   "cell_type": "code",
   "execution_count": 91,
   "metadata": {},
   "outputs": [
    {
     "data": {
      "text/plain": [
       "array([[4, 8, 3, 9, 0],\n",
       "       [0, 4, 5, 4, 7]])"
      ]
     },
     "execution_count": 91,
     "metadata": {},
     "output_type": "execute_result"
    }
   ],
   "source": [
    "matrix"
   ]
  },
  {
   "cell_type": "code",
   "execution_count": null,
   "metadata": {},
   "outputs": [],
   "source": [
    "matrix[1]"
   ]
  }
 ],
 "metadata": {
  "kernelspec": {
   "display_name": "RampUp",
   "language": "python",
   "name": "python3"
  },
  "language_info": {
   "codemirror_mode": {
    "name": "ipython",
    "version": 3
   },
   "file_extension": ".py",
   "mimetype": "text/x-python",
   "name": "python",
   "nbconvert_exporter": "python",
   "pygments_lexer": "ipython3",
   "version": "3.9.16"
  },
  "orig_nbformat": 4,
  "vscode": {
   "interpreter": {
    "hash": "bf408dd79fa6990064d3a79980ff8bd8e1ce44a88815d1509b1db3e058854836"
   }
  }
 },
 "nbformat": 4,
 "nbformat_minor": 2
}
